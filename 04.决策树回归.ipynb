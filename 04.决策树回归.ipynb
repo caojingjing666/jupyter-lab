{
 "cells": [
  {
   "cell_type": "code",
   "execution_count": 6,
   "metadata": {},
   "outputs": [
    {
     "ename": "SyntaxError",
     "evalue": "(unicode error) 'unicodeescape' codec can't decode bytes in position 2-3: truncated \\UXXXXXXXX escape (<ipython-input-6-40ef3019162b>, line 41)",
     "output_type": "error",
     "traceback": [
      "\u001b[1;36m  File \u001b[1;32m\"<ipython-input-6-40ef3019162b>\"\u001b[1;36m, line \u001b[1;32m41\u001b[0m\n\u001b[1;33m    os.environ[\"PATH\"] += os.pathsep + 'C:\\Users\\admin\\Desktop\\jupyter'\u001b[0m\n\u001b[1;37m                                      ^\u001b[0m\n\u001b[1;31mSyntaxError\u001b[0m\u001b[1;31m:\u001b[0m (unicode error) 'unicodeescape' codec can't decode bytes in position 2-3: truncated \\UXXXXXXXX escape\n"
     ]
    }
   ],
   "source": [
    "# 设置随机种子\n",
    "import numpy as np                                          # 处理多维数组（矩阵）模块\n",
    "np.random.seed(10)                                                    # 随机种子(固定随机数的作用)\n",
    "\n",
    "# 加载数据集\n",
    "from sklearn import datasets                                # 数据集模块    datasets中包含了众多数据集\n",
    "hous = datasets.load_boston()                                         # 加载波士顿房价'数据集'\n",
    "hous                                                                  # 查看数据集\n",
    "dataset_X = hous.data                                                 # data   取出数据集的特征数据(列)\n",
    "dataset_Y = hous.target                                               # target 取出数据集对应的标签(行)\n",
    "\n",
    "# 分割数据集\n",
    "from sklearn.model_selection import train_test_split        # 分割数据集模块（用于将矩阵随机划分为训练子集和测试子集，并返回划分好的训练集测试集数据样本和训练集测试集标签）    。\n",
    "train_X,test_X,train_y,test_y = train_test_split(dataset_X,dataset_Y,test_size=0.2)\n",
    "                                                                      # train 训练 test 测试 test_size 设置训练集分割比例\n",
    "                                                                      # train_X 0.8数据,test_X 0.2数据,train_y 0.8标签,test_y 0.2标签\n",
    "# 建模回归 \n",
    "from sklearn.tree import DecisionTreeRegressor              # 决策树的回归模型模块（回归是对连续变量做决策树【取的是某区间(列)内的某个值】用于预测平均值）\n",
    "dtReg = DecisionTreeRegressor()                                       # 获取一个回归器对象  参数：max_depth=5 设置树的最大深度\n",
    "\n",
    "# 训练数据 \n",
    "dtReg.fit(train_X,train_y)                                            # 拿出训练数据0.8 训练标签0.8 训练决策树回归模型（fit训练方法：可以理解为一个训练过程）\n",
    "\n",
    "# 预测数据\n",
    "y_pre_test = dtReg.predict(test_X)                                    # 再使用训练后的模型 预测 测试数据0.2 得出对应的0.2标签 (predict预测方法：返回预测标签)\n",
    "print('预测的标签值：')\n",
    "print(y_pre_test)                                                     # 预测的标签值0.2\n",
    "print('真实的标签值：')\n",
    "print(test_y)                                                         # 真实的标签值0.2\n",
    "\n",
    "# 决策树数据可视化关系图\n",
    "from sklearn import tree                                    # 决策树模块\n",
    "import graphviz                                             # 图形绘制工具模块 用于显示文件数据\n",
    "dot_data = tree.export_graphviz(dtReg,out_file=None,filled=True)      # 导入训练后的模型中的节点信息到文件\n",
    "                                                                      # tree.export_graphviz()方法：设置决策树的图形 out_file=None 设置文件名 filled=True 填充颜色    \n",
    "graph = graphviz.Source(dot_data)                                     # graphviz.Source()方法：设置图形的源文件  将决策树节点信息导入进文件\n",
    "graph.render('041',view=True)                                       #  .render()方法：渲染决策树，参数：图片与文件名 view=True 打开图 在同级目录下生成tree.pdf图片文件\n",
    "\n",
    "# 当没有配置环境变量时puth报错，解决方案：自行填写它的绝对路径\n",
    "import os\n",
    "os.environ[\"PATH\"] += os.pathsep + 'C:\\Users\\admin\\Desktop\\jupyter'\n",
    "\n",
    "# 树的可视化图形解释\n",
    "# X[索引值] <= 9.95    X 代表x轴的数据特征(列)的值 \n",
    "# mse = 73.2779       均方误差值 越大越离散(坏) 越小越紧密(好) 用于评测回归模型的好坏【mae是均方绝对误差值】\n",
    "# samples = 404       数据样本数量\n",
    "# value = 22.1517     最终得出的结果标签值\n",
    "\n",
    "# 回归模型的评估\n",
    "from sklearn import metrics                                 # 模型评估模块\n",
    "mse = metrics.mean_squared_error(y_pred=y_pre_test,y_true=test_y)     # 计算均方误差 测试值与真实值对比，MSE越小说明模型越准确\n",
    "print('均方误差值：')\n",
    "print(mse)                                                            # metrics.mean_squared_error()方法：计算在测试数据上的均方误差MSE（它每次的值是随机变化的 需要设置随机种子来固定它的值）     \n",
    "\n",
    "\n",
    "# 弱分类器：每一颗树就是一个弱分类器\n",
    "# 提高那些被前一轮弱分类器错误分类样本的权值，而降低那些被正确分类样本的权值。（优先预测被分类错误的'样本'）\n",
    "# 加权多数表决的方法，加大分类误差率小的弱分类器的权值，使其在表决中起较大作用，减小分类误差率大的弱分类器的权值，使其在表决中起较小的作用。（优先使用误差率小的'弱分类器'）\n",
    "\n",
    "# 优化决策树\n",
    "from sklearn.ensemble import AdaBoostRegressor            # 集成模块 的算法 AdaBoost(提升算法)Regressor回归\n",
    "                                                          #使用集成算法：可以生成多颗决策树，通过将多个弱回归器组合成一个强回归器\n",
    "dtReg = DecisionTreeRegressor(max_depth=5)                           # 必须重新获取一个回归器对象，为了把训练任务交给adaboost\n",
    "adaBoostRe = AdaBoostRegressor(dtReg,n_estimators=400)                # 参数：给出一个弱回归器，n_estimators 设置最大弱回归器的数量\n",
    "# 训练数据\n",
    "adaBoostRe.fit(train_X,train_y)                                       # 重新拿出训练数据0.8 训练标签0.8 训练 决策树回归模型\n",
    "# 预测数据\n",
    "y_pre_test = adaBoostRe.predict(test_X)                              # 重新再使用训练后的模型 预测 测试数据0.2 得出对应的0.2标签\n",
    "print('***********************************************************************************')\n",
    "print('优化后预测的标签值：')\n",
    "print(y_pre_test)                                                    # 优化后预测的标签值0.2\n",
    "print('真实的标签值：')\n",
    "print(test_y)                                                        # 真实的标签值0.2\n",
    "print('优化后再次测试数据上的均方误差MSE：')\n",
    "print(metrics.mean_squared_error(y_pred=y_pre_test,y_true=test_y))   # 优化后再次测试数据上的均方误差MSE\n",
    "\n"
   ]
  },
  {
   "cell_type": "code",
   "execution_count": null,
   "metadata": {},
   "outputs": [],
   "source": []
  }
 ],
 "metadata": {
  "kernelspec": {
   "display_name": "Python 3",
   "language": "python",
   "name": "python3"
  },
  "language_info": {
   "codemirror_mode": {
    "name": "ipython",
    "version": 3
   },
   "file_extension": ".py",
   "mimetype": "text/x-python",
   "name": "python",
   "nbconvert_exporter": "python",
   "pygments_lexer": "ipython3",
   "version": "3.7.0"
  }
 },
 "nbformat": 4,
 "nbformat_minor": 2
}
