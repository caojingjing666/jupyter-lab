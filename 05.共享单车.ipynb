{
 "cells": [
  {
   "cell_type": "code",
   "execution_count": 1,
   "metadata": {},
   "outputs": [
    {
     "ename": "SyntaxError",
     "evalue": "invalid syntax (<ipython-input-1-561b0e93ac17>, line 1)",
     "output_type": "error",
     "traceback": [
      "\u001b[1;36m  File \u001b[1;32m\"<ipython-input-1-561b0e93ac17>\"\u001b[1;36m, line \u001b[1;32m1\u001b[0m\n\u001b[1;33m    \"\"\"\"\"\"共享单车需求分析\u001b[0m\n\u001b[1;37m                 ^\u001b[0m\n\u001b[1;31mSyntaxError\u001b[0m\u001b[1;31m:\u001b[0m invalid syntax\n"
     ]
    }
   ],
   "source": [
    "\"\"\"\n",
    "共享单车需求分析\n",
    "instant 标签序号 season 季节 yr 全年 mnth 月份 holiday 是否假期 weekday 星期 \n",
    "workingday 是否工作日 weathersit 天气类型 temp 温度 atemp 温度 hum 杂声 windspeed 风速\n",
    "1.准备数据(读取csv，删除倒数第3第2列，正数第1列与日期)\n",
    "2.构建模型：adaboost+决策树\n",
    "3.打印MSE\n",
    "4.保存模型\n",
    "\"\"\"\n",
    "\n",
    "import numpy as np\n",
    "import pandas as pd\n",
    "# 1.准备数据(读取csv，删除倒数第3第2列，正数第1列与日期)\n",
    "data = pd.read_csv('051.csv')\n",
    "data.drop(['instant','casual','registered','dteday'],axis=1,inplace=Ture)\n",
    "data = data.values                                   # print(data.as_matrix()) 相同效果\n",
    "\n",
    "# 拆分出训练集的X,y；测试集的X,y\n",
    "form sklearn.model_selection imoport train_test_split\n",
    "trainSet,testSet = train_test_split(data,test_size=0.3)\n",
    "\n",
    "# 2.构建模型：adaboost+决策树\n",
    "# 3.打印MSE\n",
    "# 4.保存模型"
   ]
  },
  {
   "cell_type": "code",
   "execution_count": null,
   "metadata": {},
   "outputs": [],
   "source": []
  }
 ],
 "metadata": {
  "kernelspec": {
   "display_name": "Python 3",
   "language": "python",
   "name": "python3"
  },
  "language_info": {
   "codemirror_mode": {
    "name": "ipython",
    "version": 3
   },
   "file_extension": ".py",
   "mimetype": "text/x-python",
   "name": "python",
   "nbconvert_exporter": "python",
   "pygments_lexer": "ipython3",
   "version": "3.7.0"
  }
 },
 "nbformat": 4,
 "nbformat_minor": 2
}
